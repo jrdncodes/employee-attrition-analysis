{
 "cells": [
  {
   "cell_type": "markdown",
   "id": "07a00286",
   "metadata": {},
   "source": [
    "# Employee Attrition Analysis\n",
    "This notebook explores factors influencing employee attrition using IBM HR dataset."
   ]
  },
  {
   "cell_type": "markdown",
   "id": "4d53b66d",
   "metadata": {},
   "source": [
    "## Example: Importing Data with Pandas\n",
    "```python\n",
    "import pandas as pd\n",
    "df = pd.read_csv('employee_attrition_ibm_hr.csv')\n",
    "df.head()\n",
    "```"
   ]
  }
 ],
 "metadata": {
  "language_info": {
   "name": "python"
  }
 },
 "nbformat": 4,
 "nbformat_minor": 5
}
