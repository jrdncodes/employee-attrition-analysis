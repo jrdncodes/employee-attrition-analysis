{
 "cells": [
  {
   "cell_type": "markdown",
   "id": "07a00286",
   "metadata": {},
   "source": [
    "# Employee Attrition Analysis\n",
    "This notebook explores factors influencing employee attrition using IBM HR dataset."
   ]
  },
  {
   "cell_type": "code",
   "execution_count": null,
   "id": "7188befa",
   "metadata": {
    "vscode": {
     "languageId": "plaintext"
    }
   },
   "outputs": [],
   "source": [
    "Data Loading & Inspection"
   ]
  }
 ],
 "metadata": {
  "language_info": {
   "name": "python"
  }
 },
 "nbformat": 4,
 "nbformat_minor": 5
}
